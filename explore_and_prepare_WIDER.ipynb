{
 "cells": [
  {
   "cell_type": "code",
   "execution_count": null,
   "metadata": {},
   "outputs": [],
   "source": [
    "import numpy as np\n",
    "import json\n",
    "from PIL import Image, ImageDraw\n",
    "import os\n",
    "import cv2\n",
    "import pandas as pd\n",
    "from tqdm import tqdm\n",
    "import shutil\n",
    "import random"
   ]
  },
  {
   "cell_type": "code",
   "execution_count": null,
   "metadata": {},
   "outputs": [],
   "source": [
    "IMAGES_DIR = '/home/gpu2/hdd/dan/WIDER/WIDER_val/images/'\n",
    "BOXES_PATH = '/home/gpu2/hdd/dan/WIDER/wider_face_split/wider_face_val_bbx_gt.txt'\n",
    "RESULT_DIR = '/home/gpu2/hdd/dan/WIDER/val/'"
   ]
  },
  {
   "cell_type": "markdown",
   "metadata": {},
   "source": [
    "# Read data"
   ]
  },
  {
   "cell_type": "code",
   "execution_count": null,
   "metadata": {},
   "outputs": [],
   "source": [
    "# collect paths to all images\n",
    "\n",
    "all_paths = []\n",
    "for path, subdirs, files in tqdm(os.walk(IMAGES_DIR)):\n",
    "    for name in files:\n",
    "        all_paths.append(os.path.join(path, name))\n",
    "        \n",
    "metadata = pd.DataFrame(all_paths, columns=['full_path'])\n",
    "\n",
    "# strip root folder\n",
    "metadata['path'] = metadata.full_path.apply(lambda x: os.path.join(*(x.split('/')[8:])))"
   ]
  },
  {
   "cell_type": "code",
   "execution_count": null,
   "metadata": {},
   "outputs": [],
   "source": [
    "# all unique endings\n",
    "metadata.path.apply(lambda x: x.split('.')[-1]).unique()"
   ]
  },
  {
   "cell_type": "code",
   "execution_count": null,
   "metadata": {},
   "outputs": [],
   "source": [
    "# number of images\n",
    "len(metadata)"
   ]
  },
  {
   "cell_type": "code",
   "execution_count": null,
   "metadata": {},
   "outputs": [],
   "source": [
    "with open(BOXES_PATH, 'r') as f:\n",
    "    content = f.readlines()\n",
    "    content = [s.strip() for s in content]"
   ]
  },
  {
   "cell_type": "code",
   "execution_count": null,
   "metadata": {},
   "outputs": [],
   "source": [
    "boxes = {}\n",
    "num_lines = len(content)\n",
    "i = 0\n",
    "name = None\n",
    "\n",
    "while i < num_lines:\n",
    "    s = content[i]\n",
    "    if s.endswith('.jpg'):\n",
    "        if name is not None:\n",
    "            assert len(boxes[name]) == num_boxes\n",
    "        name = s\n",
    "        boxes[name] = []\n",
    "        i += 1\n",
    "        num_boxes = int(content[i])\n",
    "        i += 1\n",
    "    else:\n",
    "        xmin, ymin, w, h = s.split(' ')[:4]\n",
    "        xmin, ymin, w, h = int(xmin), int(ymin), int(w), int(h)\n",
    "        if h <= 0 or w <= 0:\n",
    "            print(name)  # some boxes are weird!\n",
    "            num_boxes -= 1\n",
    "        else:\n",
    "            boxes[name].append((xmin, ymin, w, h))\n",
    "        i += 1"
   ]
  },
  {
   "cell_type": "code",
   "execution_count": null,
   "metadata": {},
   "outputs": [],
   "source": [
    "# all images have bounding boxes\n",
    "assert metadata.path.apply(lambda x: x in boxes).all()"
   ]
  },
  {
   "cell_type": "markdown",
   "metadata": {},
   "source": [
    "# Show bounding boxes"
   ]
  },
  {
   "cell_type": "code",
   "execution_count": null,
   "metadata": {},
   "outputs": [],
   "source": [
    "def draw_boxes_on_image(path, boxes):\n",
    "\n",
    "    image = Image.open(path)\n",
    "    draw = ImageDraw.Draw(image, 'RGBA')\n",
    "    width, height = image.size\n",
    "\n",
    "    for b in boxes:\n",
    "        xmin, ymin, w, h = b\n",
    "        xmax, ymax = xmin + w, ymin + h\n",
    "\n",
    "        fill = (255, 255, 255, 45)\n",
    "        outline = 'red'\n",
    "        draw.rectangle(\n",
    "            [(xmin, ymin), (xmax, ymax)],\n",
    "            fill=fill, outline=outline\n",
    "        )\n",
    "    return image"
   ]
  },
  {
   "cell_type": "code",
   "execution_count": null,
   "metadata": {
    "scrolled": false
   },
   "outputs": [],
   "source": [
    "i = random.randint(0, len(metadata) - 1)\n",
    "some_boxes = boxes[metadata.path[i]]\n",
    "draw_boxes_on_image(metadata.full_path[i], some_boxes)"
   ]
  },
  {
   "cell_type": "markdown",
   "metadata": {},
   "source": [
    "# Convert"
   ]
  },
  {
   "cell_type": "code",
   "execution_count": null,
   "metadata": {},
   "outputs": [],
   "source": [
    "def get_annotation(path, width, height):\n",
    "    name = path.split('/')[-1]\n",
    "    annotation = {\n",
    "      \"filename\": name,\n",
    "      \"size\": {\"depth\": 3, \"width\": width, \"height\": height}\n",
    "    }\n",
    "    objects = []\n",
    "    for b in boxes[path]:\n",
    "        xmin, ymin, w, h = b\n",
    "        xmax, ymax = xmin + w, ymin + h\n",
    "        objects.append({\"bndbox\": {\"ymin\": ymin, \"ymax\": ymax, \"xmax\": xmax, \"xmin\": xmin}, \"name\": \"face\"})\n",
    "    annotation[\"object\"] = objects\n",
    "    return annotation"
   ]
  },
  {
   "cell_type": "code",
   "execution_count": null,
   "metadata": {},
   "outputs": [],
   "source": [
    "shutil.rmtree(RESULT_DIR, ignore_errors=True)\n",
    "os.mkdir(RESULT_DIR)\n",
    "os.mkdir(os.path.join(RESULT_DIR, 'images'))\n",
    "os.mkdir(os.path.join(RESULT_DIR, 'annotations'))"
   ]
  },
  {
   "cell_type": "code",
   "execution_count": null,
   "metadata": {},
   "outputs": [],
   "source": [
    "for T in tqdm(metadata.itertuples()):\n",
    "    image = cv2.imread(T.full_path)\n",
    "    h, w, c = image.shape\n",
    "    assert c == 3\n",
    "    d = get_annotation(T.path, w, h)\n",
    "    name = T.path.split('/')[-1]\n",
    "    assert name.endswith('.jpg')\n",
    "    json_name = name[:-4] + '.json'\n",
    "    shutil.copy(T.full_path, os.path.join(RESULT_DIR, 'images', name))\n",
    "    json.dump(d, open(os.path.join(RESULT_DIR, 'annotations', json_name), 'w')) "
   ]
  }
 ],
 "metadata": {
  "kernelspec": {
   "display_name": "Python 3",
   "language": "python",
   "name": "python3"
  },
  "language_info": {
   "codemirror_mode": {
    "name": "ipython",
    "version": 3
   },
   "file_extension": ".py",
   "mimetype": "text/x-python",
   "name": "python",
   "nbconvert_exporter": "python",
   "pygments_lexer": "ipython3",
   "version": "3.6.3"
  }
 },
 "nbformat": 4,
 "nbformat_minor": 1
}
